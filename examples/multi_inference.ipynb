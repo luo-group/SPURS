{
 "cells": [
  {
   "cell_type": "code",
   "execution_count": null,
   "id": "1fee4e8b",
   "metadata": {},
   "outputs": [],
   "source": [
    "git clone git@github.com:luo-group/SPURS.git\n",
    "%cd SPURS\n",
    "!pip install -e .\n",
    "!pip install torch==1.12.0+cu113 torchvision==0.13.0+cu113 torchaudio==0.12.0 --extra-index-url https://download.pytorch.org/whl/cu113\n"
   ]
  }
 ],
 "metadata": {
  "language_info": {
   "name": "python"
  }
 },
 "nbformat": 4,
 "nbformat_minor": 5
}
